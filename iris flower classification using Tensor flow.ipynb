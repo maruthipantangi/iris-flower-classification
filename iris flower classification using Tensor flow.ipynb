{
 "cells": [
  {
   "cell_type": "code",
   "execution_count": 25,
   "id": "7b706deb",
   "metadata": {},
   "outputs": [],
   "source": [
    "import pandas as pd\n",
    "import numpy as np\n",
    "import seaborn as sns\n",
    "from tensorflow import keras\n"
   ]
  },
  {
   "cell_type": "code",
   "execution_count": 26,
   "id": "ef309b08",
   "metadata": {},
   "outputs": [
    {
     "data": {
      "text/html": [
       "<div>\n",
       "<style scoped>\n",
       "    .dataframe tbody tr th:only-of-type {\n",
       "        vertical-align: middle;\n",
       "    }\n",
       "\n",
       "    .dataframe tbody tr th {\n",
       "        vertical-align: top;\n",
       "    }\n",
       "\n",
       "    .dataframe thead th {\n",
       "        text-align: right;\n",
       "    }\n",
       "</style>\n",
       "<table border=\"1\" class=\"dataframe\">\n",
       "  <thead>\n",
       "    <tr style=\"text-align: right;\">\n",
       "      <th></th>\n",
       "      <th>Id</th>\n",
       "      <th>SepalLengthCm</th>\n",
       "      <th>SepalWidthCm</th>\n",
       "      <th>PetalLengthCm</th>\n",
       "      <th>PetalWidthCm</th>\n",
       "      <th>Species</th>\n",
       "    </tr>\n",
       "  </thead>\n",
       "  <tbody>\n",
       "    <tr>\n",
       "      <th>0</th>\n",
       "      <td>1</td>\n",
       "      <td>5.1</td>\n",
       "      <td>3.5</td>\n",
       "      <td>1.4</td>\n",
       "      <td>0.2</td>\n",
       "      <td>Iris-setosa</td>\n",
       "    </tr>\n",
       "    <tr>\n",
       "      <th>1</th>\n",
       "      <td>2</td>\n",
       "      <td>4.9</td>\n",
       "      <td>3.0</td>\n",
       "      <td>1.4</td>\n",
       "      <td>0.2</td>\n",
       "      <td>Iris-setosa</td>\n",
       "    </tr>\n",
       "    <tr>\n",
       "      <th>2</th>\n",
       "      <td>3</td>\n",
       "      <td>4.7</td>\n",
       "      <td>3.2</td>\n",
       "      <td>1.3</td>\n",
       "      <td>0.2</td>\n",
       "      <td>Iris-setosa</td>\n",
       "    </tr>\n",
       "    <tr>\n",
       "      <th>3</th>\n",
       "      <td>4</td>\n",
       "      <td>4.6</td>\n",
       "      <td>3.1</td>\n",
       "      <td>1.5</td>\n",
       "      <td>0.2</td>\n",
       "      <td>Iris-setosa</td>\n",
       "    </tr>\n",
       "    <tr>\n",
       "      <th>4</th>\n",
       "      <td>5</td>\n",
       "      <td>5.0</td>\n",
       "      <td>3.6</td>\n",
       "      <td>1.4</td>\n",
       "      <td>0.2</td>\n",
       "      <td>Iris-setosa</td>\n",
       "    </tr>\n",
       "  </tbody>\n",
       "</table>\n",
       "</div>"
      ],
      "text/plain": [
       "   Id  SepalLengthCm  SepalWidthCm  PetalLengthCm  PetalWidthCm      Species\n",
       "0   1            5.1           3.5            1.4           0.2  Iris-setosa\n",
       "1   2            4.9           3.0            1.4           0.2  Iris-setosa\n",
       "2   3            4.7           3.2            1.3           0.2  Iris-setosa\n",
       "3   4            4.6           3.1            1.5           0.2  Iris-setosa\n",
       "4   5            5.0           3.6            1.4           0.2  Iris-setosa"
      ]
     },
     "execution_count": 26,
     "metadata": {},
     "output_type": "execute_result"
    }
   ],
   "source": [
    "df = pd.read_csv(r'C:\\Users\\kaif\\Downloads\\iris\\Iris.csv')\n",
    "df.head()\n"
   ]
  },
  {
   "cell_type": "code",
   "execution_count": 27,
   "id": "84a6e57e",
   "metadata": {},
   "outputs": [
    {
     "data": {
      "text/plain": [
       "Species\n",
       "Iris-setosa        50\n",
       "Iris-versicolor    50\n",
       "Iris-virginica     50\n",
       "Name: count, dtype: int64"
      ]
     },
     "execution_count": 27,
     "metadata": {},
     "output_type": "execute_result"
    }
   ],
   "source": [
    "df['Species'].value_counts()"
   ]
  },
  {
   "cell_type": "code",
   "execution_count": 28,
   "id": "5e1b57ac",
   "metadata": {},
   "outputs": [
    {
     "name": "stdout",
     "output_type": "stream",
     "text": [
      "<class 'pandas.core.frame.DataFrame'>\n",
      "RangeIndex: 150 entries, 0 to 149\n",
      "Data columns (total 6 columns):\n",
      " #   Column         Non-Null Count  Dtype  \n",
      "---  ------         --------------  -----  \n",
      " 0   Id             150 non-null    int64  \n",
      " 1   SepalLengthCm  150 non-null    float64\n",
      " 2   SepalWidthCm   150 non-null    float64\n",
      " 3   PetalLengthCm  150 non-null    float64\n",
      " 4   PetalWidthCm   150 non-null    float64\n",
      " 5   Species        150 non-null    object \n",
      "dtypes: float64(4), int64(1), object(1)\n",
      "memory usage: 7.2+ KB\n"
     ]
    }
   ],
   "source": [
    "df.info()"
   ]
  },
  {
   "cell_type": "code",
   "execution_count": 29,
   "id": "acee5c33",
   "metadata": {},
   "outputs": [
    {
     "data": {
      "text/plain": [
       "Id               0\n",
       "SepalLengthCm    0\n",
       "SepalWidthCm     0\n",
       "PetalLengthCm    0\n",
       "PetalWidthCm     0\n",
       "Species          0\n",
       "dtype: int64"
      ]
     },
     "execution_count": 29,
     "metadata": {},
     "output_type": "execute_result"
    }
   ],
   "source": [
    "df.isnull().sum()"
   ]
  },
  {
   "cell_type": "code",
   "execution_count": 30,
   "id": "35c01aae",
   "metadata": {},
   "outputs": [
    {
     "data": {
      "text/html": [
       "<div>\n",
       "<style scoped>\n",
       "    .dataframe tbody tr th:only-of-type {\n",
       "        vertical-align: middle;\n",
       "    }\n",
       "\n",
       "    .dataframe tbody tr th {\n",
       "        vertical-align: top;\n",
       "    }\n",
       "\n",
       "    .dataframe thead th {\n",
       "        text-align: right;\n",
       "    }\n",
       "</style>\n",
       "<table border=\"1\" class=\"dataframe\">\n",
       "  <thead>\n",
       "    <tr style=\"text-align: right;\">\n",
       "      <th></th>\n",
       "      <th>Id</th>\n",
       "      <th>SepalLengthCm</th>\n",
       "      <th>SepalWidthCm</th>\n",
       "      <th>PetalLengthCm</th>\n",
       "      <th>PetalWidthCm</th>\n",
       "      <th>Species</th>\n",
       "    </tr>\n",
       "  </thead>\n",
       "  <tbody>\n",
       "    <tr>\n",
       "      <th>0</th>\n",
       "      <td>1</td>\n",
       "      <td>5.1</td>\n",
       "      <td>3.5</td>\n",
       "      <td>1.4</td>\n",
       "      <td>0.2</td>\n",
       "      <td>0</td>\n",
       "    </tr>\n",
       "    <tr>\n",
       "      <th>1</th>\n",
       "      <td>2</td>\n",
       "      <td>4.9</td>\n",
       "      <td>3.0</td>\n",
       "      <td>1.4</td>\n",
       "      <td>0.2</td>\n",
       "      <td>0</td>\n",
       "    </tr>\n",
       "    <tr>\n",
       "      <th>2</th>\n",
       "      <td>3</td>\n",
       "      <td>4.7</td>\n",
       "      <td>3.2</td>\n",
       "      <td>1.3</td>\n",
       "      <td>0.2</td>\n",
       "      <td>0</td>\n",
       "    </tr>\n",
       "    <tr>\n",
       "      <th>3</th>\n",
       "      <td>4</td>\n",
       "      <td>4.6</td>\n",
       "      <td>3.1</td>\n",
       "      <td>1.5</td>\n",
       "      <td>0.2</td>\n",
       "      <td>0</td>\n",
       "    </tr>\n",
       "    <tr>\n",
       "      <th>4</th>\n",
       "      <td>5</td>\n",
       "      <td>5.0</td>\n",
       "      <td>3.6</td>\n",
       "      <td>1.4</td>\n",
       "      <td>0.2</td>\n",
       "      <td>0</td>\n",
       "    </tr>\n",
       "  </tbody>\n",
       "</table>\n",
       "</div>"
      ],
      "text/plain": [
       "   Id  SepalLengthCm  SepalWidthCm  PetalLengthCm  PetalWidthCm  Species\n",
       "0   1            5.1           3.5            1.4           0.2        0\n",
       "1   2            4.9           3.0            1.4           0.2        0\n",
       "2   3            4.7           3.2            1.3           0.2        0\n",
       "3   4            4.6           3.1            1.5           0.2        0\n",
       "4   5            5.0           3.6            1.4           0.2        0"
      ]
     },
     "execution_count": 30,
     "metadata": {},
     "output_type": "execute_result"
    }
   ],
   "source": [
    "from sklearn.preprocessing import LabelEncoder\n",
    "le = LabelEncoder()\n",
    "df['Species'] = le.fit_transform(df['Species'])\n",
    "df.head()"
   ]
  },
  {
   "cell_type": "code",
   "execution_count": 31,
   "id": "f6c7d2e1",
   "metadata": {},
   "outputs": [
    {
     "name": "stdout",
     "output_type": "stream",
     "text": [
      "['Iris-setosa' 'Iris-versicolor' 'Iris-virginica']\n"
     ]
    }
   ],
   "source": [
    "species_name = le.classes_\n",
    "print(species_name)"
   ]
  },
  {
   "cell_type": "code",
   "execution_count": 32,
   "id": "57aa86b9",
   "metadata": {},
   "outputs": [
    {
     "data": {
      "text/html": [
       "<div>\n",
       "<style scoped>\n",
       "    .dataframe tbody tr th:only-of-type {\n",
       "        vertical-align: middle;\n",
       "    }\n",
       "\n",
       "    .dataframe tbody tr th {\n",
       "        vertical-align: top;\n",
       "    }\n",
       "\n",
       "    .dataframe thead th {\n",
       "        text-align: right;\n",
       "    }\n",
       "</style>\n",
       "<table border=\"1\" class=\"dataframe\">\n",
       "  <thead>\n",
       "    <tr style=\"text-align: right;\">\n",
       "      <th></th>\n",
       "      <th>SepalLengthCm</th>\n",
       "      <th>SepalWidthCm</th>\n",
       "      <th>PetalLengthCm</th>\n",
       "      <th>PetalWidthCm</th>\n",
       "    </tr>\n",
       "  </thead>\n",
       "  <tbody>\n",
       "    <tr>\n",
       "      <th>0</th>\n",
       "      <td>5.1</td>\n",
       "      <td>3.5</td>\n",
       "      <td>1.4</td>\n",
       "      <td>0.2</td>\n",
       "    </tr>\n",
       "    <tr>\n",
       "      <th>1</th>\n",
       "      <td>4.9</td>\n",
       "      <td>3.0</td>\n",
       "      <td>1.4</td>\n",
       "      <td>0.2</td>\n",
       "    </tr>\n",
       "    <tr>\n",
       "      <th>2</th>\n",
       "      <td>4.7</td>\n",
       "      <td>3.2</td>\n",
       "      <td>1.3</td>\n",
       "      <td>0.2</td>\n",
       "    </tr>\n",
       "  </tbody>\n",
       "</table>\n",
       "</div>"
      ],
      "text/plain": [
       "   SepalLengthCm  SepalWidthCm  PetalLengthCm  PetalWidthCm\n",
       "0            5.1           3.5            1.4           0.2\n",
       "1            4.9           3.0            1.4           0.2\n",
       "2            4.7           3.2            1.3           0.2"
      ]
     },
     "execution_count": 32,
     "metadata": {},
     "output_type": "execute_result"
    }
   ],
   "source": [
    "X = df.drop(columns=['Id', 'Species'])\n",
    "y = df['Species']\n",
    "X.head(3)"
   ]
  },
  {
   "cell_type": "code",
   "execution_count": 33,
   "id": "22785210",
   "metadata": {},
   "outputs": [
    {
     "name": "stdout",
     "output_type": "stream",
     "text": [
      "0    0\n",
      "1    0\n",
      "2    0\n",
      "3    0\n",
      "4    0\n",
      "Name: Species, dtype: int32\n"
     ]
    }
   ],
   "source": [
    "print(y[:5])"
   ]
  },
  {
   "cell_type": "code",
   "execution_count": 34,
   "id": "092e7487",
   "metadata": {},
   "outputs": [],
   "source": [
    "from sklearn.model_selection import train_test_split\n",
    "x_train, x_test, y_train, y_test = train_test_split(X, y, test_size=0.3, shuffle=True, random_state=69)"
   ]
  },
  {
   "cell_type": "code",
   "execution_count": 35,
   "id": "d53a176e",
   "metadata": {},
   "outputs": [
    {
     "data": {
      "text/plain": [
       "(105, 4)"
      ]
     },
     "execution_count": 35,
     "metadata": {},
     "output_type": "execute_result"
    }
   ],
   "source": [
    "x_train.shape"
   ]
  },
  {
   "cell_type": "code",
   "execution_count": 36,
   "id": "3ab7784f",
   "metadata": {},
   "outputs": [
    {
     "name": "stdout",
     "output_type": "stream",
     "text": [
      "    SepalLengthCm  SepalWidthCm  PetalLengthCm  PetalWidthCm\n",
      "57            4.9           2.4            3.3           1.0\n",
      "[[-1.14630942 -1.44374444 -0.25650655 -0.258263  ]]\n"
     ]
    }
   ],
   "source": [
    "from sklearn.preprocessing import StandardScaler\n",
    "sc = StandardScaler()\n",
    "print(x_train[:1])\n",
    "x_train = sc.fit_transform(x_train)\n",
    "x_test = sc.transform(x_test)\n",
    "print(x_train[:1])"
   ]
  },
  {
   "cell_type": "code",
   "execution_count": 37,
   "id": "d8cfc160",
   "metadata": {},
   "outputs": [
    {
     "name": "stdout",
     "output_type": "stream",
     "text": [
      "[[0. 1. 0.]\n",
      " [0. 0. 1.]\n",
      " [0. 1. 0.]\n",
      " [0. 1. 0.]\n",
      " [0. 1. 0.]]\n"
     ]
    }
   ],
   "source": [
    "y_train = keras.utils.to_categorical(y_train, num_classes=3)\n",
    "print(y_train[:5])"
   ]
  },
  {
   "cell_type": "code",
   "execution_count": 38,
   "id": "bec75f07",
   "metadata": {},
   "outputs": [],
   "source": [
    "from keras.models import Sequential\n",
    "from keras.layers import Dense, Dropout"
   ]
  },
  {
   "cell_type": "code",
   "execution_count": 39,
   "id": "81f981f9",
   "metadata": {},
   "outputs": [],
   "source": [
    "model = Sequential()\n",
    "model.add(Dense(units=32, activation='relu', input_shape=(x_train.shape[-1], )))\n",
    "model.add(Dense(units=32, activation='relu'))\n",
    "model.add(Dropout(0.5))\n",
    "model.add(Dense(units=3, activation='softmax'))"
   ]
  },
  {
   "cell_type": "code",
   "execution_count": 40,
   "id": "52773aa9",
   "metadata": {},
   "outputs": [
    {
     "name": "stdout",
     "output_type": "stream",
     "text": [
      "Model: \"sequential_1\"\n",
      "_________________________________________________________________\n",
      " Layer (type)                Output Shape              Param #   \n",
      "=================================================================\n",
      " dense_3 (Dense)             (None, 32)                160       \n",
      "                                                                 \n",
      " dense_4 (Dense)             (None, 32)                1056      \n",
      "                                                                 \n",
      " dropout_1 (Dropout)         (None, 32)                0         \n",
      "                                                                 \n",
      " dense_5 (Dense)             (None, 3)                 99        \n",
      "                                                                 \n",
      "=================================================================\n",
      "Total params: 1315 (5.14 KB)\n",
      "Trainable params: 1315 (5.14 KB)\n",
      "Non-trainable params: 0 (0.00 Byte)\n",
      "_________________________________________________________________\n"
     ]
    }
   ],
   "source": [
    "model.compile(optimizer='Adam', loss='categorical_crossentropy', metrics=['accuracy'])\n",
    "model.summary()"
   ]
  },
  {
   "cell_type": "code",
   "execution_count": 41,
   "id": "b27dc774",
   "metadata": {},
   "outputs": [
    {
     "name": "stdout",
     "output_type": "stream",
     "text": [
      "Epoch 1/100\n",
      "WARNING:tensorflow:From C:\\Users\\kaif\\anaconda3\\Lib\\site-packages\\keras\\src\\utils\\tf_utils.py:492: The name tf.ragged.RaggedTensorValue is deprecated. Please use tf.compat.v1.ragged.RaggedTensorValue instead.\n",
      "\n",
      "WARNING:tensorflow:From C:\\Users\\kaif\\anaconda3\\Lib\\site-packages\\keras\\src\\engine\\base_layer_utils.py:384: The name tf.executing_eagerly_outside_functions is deprecated. Please use tf.compat.v1.executing_eagerly_outside_functions instead.\n",
      "\n",
      "4/4 - 1s - loss: 1.0228 - accuracy: 0.4095 - 1s/epoch - 367ms/step\n",
      "Epoch 2/100\n",
      "4/4 - 0s - loss: 1.0187 - accuracy: 0.4667 - 17ms/epoch - 4ms/step\n",
      "Epoch 3/100\n",
      "4/4 - 0s - loss: 0.9384 - accuracy: 0.5333 - 14ms/epoch - 3ms/step\n",
      "Epoch 4/100\n",
      "4/4 - 0s - loss: 0.8950 - accuracy: 0.5905 - 19ms/epoch - 5ms/step\n",
      "Epoch 5/100\n",
      "4/4 - 0s - loss: 0.8393 - accuracy: 0.6857 - 17ms/epoch - 4ms/step\n",
      "Epoch 6/100\n",
      "4/4 - 0s - loss: 0.7974 - accuracy: 0.6857 - 25ms/epoch - 6ms/step\n",
      "Epoch 7/100\n",
      "4/4 - 0s - loss: 0.8012 - accuracy: 0.7048 - 20ms/epoch - 5ms/step\n",
      "Epoch 8/100\n",
      "4/4 - 0s - loss: 0.7740 - accuracy: 0.7143 - 13ms/epoch - 3ms/step\n",
      "Epoch 9/100\n",
      "4/4 - 0s - loss: 0.7329 - accuracy: 0.7333 - 17ms/epoch - 4ms/step\n",
      "Epoch 10/100\n",
      "4/4 - 0s - loss: 0.6737 - accuracy: 0.7619 - 16ms/epoch - 4ms/step\n",
      "Epoch 11/100\n",
      "4/4 - 0s - loss: 0.6788 - accuracy: 0.7810 - 17ms/epoch - 4ms/step\n",
      "Epoch 12/100\n",
      "4/4 - 0s - loss: 0.6340 - accuracy: 0.8000 - 17ms/epoch - 4ms/step\n",
      "Epoch 13/100\n",
      "4/4 - 0s - loss: 0.6027 - accuracy: 0.8286 - 16ms/epoch - 4ms/step\n",
      "Epoch 14/100\n",
      "4/4 - 0s - loss: 0.6120 - accuracy: 0.7429 - 17ms/epoch - 4ms/step\n",
      "Epoch 15/100\n",
      "4/4 - 0s - loss: 0.5963 - accuracy: 0.7714 - 16ms/epoch - 4ms/step\n",
      "Epoch 16/100\n",
      "4/4 - 0s - loss: 0.5762 - accuracy: 0.7714 - 17ms/epoch - 4ms/step\n",
      "Epoch 17/100\n",
      "4/4 - 0s - loss: 0.5096 - accuracy: 0.8571 - 17ms/epoch - 4ms/step\n",
      "Epoch 18/100\n",
      "4/4 - 0s - loss: 0.4985 - accuracy: 0.8762 - 17ms/epoch - 4ms/step\n",
      "Epoch 19/100\n",
      "4/4 - 0s - loss: 0.6009 - accuracy: 0.7238 - 16ms/epoch - 4ms/step\n",
      "Epoch 20/100\n",
      "4/4 - 0s - loss: 0.5307 - accuracy: 0.7714 - 16ms/epoch - 4ms/step\n",
      "Epoch 21/100\n",
      "4/4 - 0s - loss: 0.5059 - accuracy: 0.8000 - 18ms/epoch - 5ms/step\n",
      "Epoch 22/100\n",
      "4/4 - 0s - loss: 0.4941 - accuracy: 0.7810 - 19ms/epoch - 5ms/step\n",
      "Epoch 23/100\n",
      "4/4 - 0s - loss: 0.4768 - accuracy: 0.8476 - 14ms/epoch - 3ms/step\n",
      "Epoch 24/100\n",
      "4/4 - 0s - loss: 0.4374 - accuracy: 0.8571 - 12ms/epoch - 3ms/step\n",
      "Epoch 25/100\n",
      "4/4 - 0s - loss: 0.4477 - accuracy: 0.8095 - 17ms/epoch - 4ms/step\n",
      "Epoch 26/100\n",
      "4/4 - 0s - loss: 0.4298 - accuracy: 0.8571 - 17ms/epoch - 4ms/step\n",
      "Epoch 27/100\n",
      "4/4 - 0s - loss: 0.4911 - accuracy: 0.7810 - 16ms/epoch - 4ms/step\n",
      "Epoch 28/100\n",
      "4/4 - 0s - loss: 0.3788 - accuracy: 0.8952 - 4ms/epoch - 1ms/step\n",
      "Epoch 29/100\n",
      "4/4 - 0s - loss: 0.4095 - accuracy: 0.8667 - 16ms/epoch - 4ms/step\n",
      "Epoch 30/100\n",
      "4/4 - 0s - loss: 0.4183 - accuracy: 0.8571 - 13ms/epoch - 3ms/step\n",
      "Epoch 31/100\n",
      "4/4 - 0s - loss: 0.4249 - accuracy: 0.8000 - 6ms/epoch - 1ms/step\n",
      "Epoch 32/100\n",
      "4/4 - 0s - loss: 0.4242 - accuracy: 0.8095 - 6ms/epoch - 1ms/step\n",
      "Epoch 33/100\n",
      "4/4 - 0s - loss: 0.3588 - accuracy: 0.8762 - 7ms/epoch - 2ms/step\n",
      "Epoch 34/100\n",
      "4/4 - 0s - loss: 0.3427 - accuracy: 0.8571 - 8ms/epoch - 2ms/step\n",
      "Epoch 35/100\n",
      "4/4 - 0s - loss: 0.3820 - accuracy: 0.8667 - 9ms/epoch - 2ms/step\n",
      "Epoch 36/100\n",
      "4/4 - 0s - loss: 0.3790 - accuracy: 0.8571 - 9ms/epoch - 2ms/step\n",
      "Epoch 37/100\n",
      "4/4 - 0s - loss: 0.3464 - accuracy: 0.8762 - 8ms/epoch - 2ms/step\n",
      "Epoch 38/100\n",
      "4/4 - 0s - loss: 0.3637 - accuracy: 0.8286 - 8ms/epoch - 2ms/step\n",
      "Epoch 39/100\n",
      "4/4 - 0s - loss: 0.4002 - accuracy: 0.8190 - 4ms/epoch - 989us/step\n",
      "Epoch 40/100\n",
      "4/4 - 0s - loss: 0.3107 - accuracy: 0.8667 - 3ms/epoch - 667us/step\n",
      "Epoch 41/100\n",
      "4/4 - 0s - loss: 0.3068 - accuracy: 0.8762 - 4ms/epoch - 1ms/step\n",
      "Epoch 42/100\n",
      "4/4 - 0s - loss: 0.3165 - accuracy: 0.9048 - 5ms/epoch - 1ms/step\n",
      "Epoch 43/100\n",
      "4/4 - 0s - loss: 0.2913 - accuracy: 0.8952 - 18ms/epoch - 5ms/step\n",
      "Epoch 44/100\n",
      "4/4 - 0s - loss: 0.2713 - accuracy: 0.9048 - 17ms/epoch - 4ms/step\n",
      "Epoch 45/100\n",
      "4/4 - 0s - loss: 0.2945 - accuracy: 0.8952 - 15ms/epoch - 4ms/step\n",
      "Epoch 46/100\n",
      "4/4 - 0s - loss: 0.2687 - accuracy: 0.9048 - 11ms/epoch - 3ms/step\n",
      "Epoch 47/100\n",
      "4/4 - 0s - loss: 0.2604 - accuracy: 0.9429 - 17ms/epoch - 4ms/step\n",
      "Epoch 48/100\n",
      "4/4 - 0s - loss: 0.2895 - accuracy: 0.8857 - 12ms/epoch - 3ms/step\n",
      "Epoch 49/100\n",
      "4/4 - 0s - loss: 0.2524 - accuracy: 0.9238 - 12ms/epoch - 3ms/step\n",
      "Epoch 50/100\n",
      "4/4 - 0s - loss: 0.2482 - accuracy: 0.8857 - 14ms/epoch - 3ms/step\n",
      "Epoch 51/100\n",
      "4/4 - 0s - loss: 0.2636 - accuracy: 0.8857 - 13ms/epoch - 3ms/step\n",
      "Epoch 52/100\n",
      "4/4 - 0s - loss: 0.2899 - accuracy: 0.8952 - 17ms/epoch - 4ms/step\n",
      "Epoch 53/100\n",
      "4/4 - 0s - loss: 0.2731 - accuracy: 0.9143 - 3ms/epoch - 819us/step\n",
      "Epoch 54/100\n",
      "4/4 - 0s - loss: 0.2737 - accuracy: 0.8857 - 7ms/epoch - 2ms/step\n",
      "Epoch 55/100\n",
      "4/4 - 0s - loss: 0.2514 - accuracy: 0.9143 - 3ms/epoch - 854us/step\n",
      "Epoch 56/100\n",
      "4/4 - 0s - loss: 0.2508 - accuracy: 0.9048 - 5ms/epoch - 1ms/step\n",
      "Epoch 57/100\n",
      "4/4 - 0s - loss: 0.2588 - accuracy: 0.8857 - 6ms/epoch - 1ms/step\n",
      "Epoch 58/100\n",
      "4/4 - 0s - loss: 0.2448 - accuracy: 0.9333 - 16ms/epoch - 4ms/step\n",
      "Epoch 59/100\n",
      "4/4 - 0s - loss: 0.2775 - accuracy: 0.8952 - 22ms/epoch - 5ms/step\n",
      "Epoch 60/100\n",
      "4/4 - 0s - loss: 0.2075 - accuracy: 0.9333 - 16ms/epoch - 4ms/step\n",
      "Epoch 61/100\n",
      "4/4 - 0s - loss: 0.2188 - accuracy: 0.9238 - 13ms/epoch - 3ms/step\n",
      "Epoch 62/100\n",
      "4/4 - 0s - loss: 0.2100 - accuracy: 0.9238 - 16ms/epoch - 4ms/step\n",
      "Epoch 63/100\n",
      "4/4 - 0s - loss: 0.2162 - accuracy: 0.9143 - 16ms/epoch - 4ms/step\n",
      "Epoch 64/100\n",
      "4/4 - 0s - loss: 0.1988 - accuracy: 0.9524 - 18ms/epoch - 5ms/step\n",
      "Epoch 65/100\n",
      "4/4 - 0s - loss: 0.2276 - accuracy: 0.9238 - 13ms/epoch - 3ms/step\n",
      "Epoch 66/100\n",
      "4/4 - 0s - loss: 0.2495 - accuracy: 0.9048 - 15ms/epoch - 4ms/step\n",
      "Epoch 67/100\n",
      "4/4 - 0s - loss: 0.2146 - accuracy: 0.9429 - 17ms/epoch - 4ms/step\n",
      "Epoch 68/100\n",
      "4/4 - 0s - loss: 0.1937 - accuracy: 0.9333 - 16ms/epoch - 4ms/step\n",
      "Epoch 69/100\n",
      "4/4 - 0s - loss: 0.1744 - accuracy: 0.9524 - 18ms/epoch - 5ms/step\n",
      "Epoch 70/100\n",
      "4/4 - 0s - loss: 0.2210 - accuracy: 0.9429 - 16ms/epoch - 4ms/step\n",
      "Epoch 71/100\n",
      "4/4 - 0s - loss: 0.2096 - accuracy: 0.9429 - 19ms/epoch - 5ms/step\n",
      "Epoch 72/100\n",
      "4/4 - 0s - loss: 0.2124 - accuracy: 0.9238 - 7ms/epoch - 2ms/step\n",
      "Epoch 73/100\n",
      "4/4 - 0s - loss: 0.1390 - accuracy: 0.9810 - 17ms/epoch - 4ms/step\n",
      "Epoch 74/100\n",
      "4/4 - 0s - loss: 0.1852 - accuracy: 0.9619 - 13ms/epoch - 3ms/step\n",
      "Epoch 75/100\n",
      "4/4 - 0s - loss: 0.1734 - accuracy: 0.9619 - 13ms/epoch - 3ms/step\n",
      "Epoch 76/100\n",
      "4/4 - 0s - loss: 0.2077 - accuracy: 0.9524 - 18ms/epoch - 5ms/step\n",
      "Epoch 77/100\n",
      "4/4 - 0s - loss: 0.2093 - accuracy: 0.9333 - 6ms/epoch - 2ms/step\n",
      "Epoch 78/100\n",
      "4/4 - 0s - loss: 0.1934 - accuracy: 0.9429 - 8ms/epoch - 2ms/step\n",
      "Epoch 79/100\n",
      "4/4 - 0s - loss: 0.2091 - accuracy: 0.9238 - 19ms/epoch - 5ms/step\n",
      "Epoch 80/100\n",
      "4/4 - 0s - loss: 0.1808 - accuracy: 0.9524 - 19ms/epoch - 5ms/step\n",
      "Epoch 81/100\n",
      "4/4 - 0s - loss: 0.1858 - accuracy: 0.9524 - 13ms/epoch - 3ms/step\n",
      "Epoch 82/100\n",
      "4/4 - 0s - loss: 0.1767 - accuracy: 0.9524 - 13ms/epoch - 3ms/step\n",
      "Epoch 83/100\n",
      "4/4 - 0s - loss: 0.2030 - accuracy: 0.9333 - 15ms/epoch - 4ms/step\n",
      "Epoch 84/100\n",
      "4/4 - 0s - loss: 0.1861 - accuracy: 0.9238 - 16ms/epoch - 4ms/step\n",
      "Epoch 85/100\n",
      "4/4 - 0s - loss: 0.1847 - accuracy: 0.9429 - 17ms/epoch - 4ms/step\n",
      "Epoch 86/100\n",
      "4/4 - 0s - loss: 0.1811 - accuracy: 0.9429 - 17ms/epoch - 4ms/step\n",
      "Epoch 87/100\n",
      "4/4 - 0s - loss: 0.1619 - accuracy: 0.9714 - 15ms/epoch - 4ms/step\n",
      "Epoch 88/100\n",
      "4/4 - 0s - loss: 0.2026 - accuracy: 0.9238 - 18ms/epoch - 5ms/step\n",
      "Epoch 89/100\n",
      "4/4 - 0s - loss: 0.1749 - accuracy: 0.9714 - 14ms/epoch - 3ms/step\n",
      "Epoch 90/100\n",
      "4/4 - 0s - loss: 0.1318 - accuracy: 0.9810 - 16ms/epoch - 4ms/step\n",
      "Epoch 91/100\n",
      "4/4 - 0s - loss: 0.1829 - accuracy: 0.9524 - 16ms/epoch - 4ms/step\n",
      "Epoch 92/100\n",
      "4/4 - 0s - loss: 0.1657 - accuracy: 0.9524 - 16ms/epoch - 4ms/step\n",
      "Epoch 93/100\n",
      "4/4 - 0s - loss: 0.1744 - accuracy: 0.9429 - 13ms/epoch - 3ms/step\n",
      "Epoch 94/100\n",
      "4/4 - 0s - loss: 0.1605 - accuracy: 0.9619 - 13ms/epoch - 3ms/step\n",
      "Epoch 95/100\n",
      "4/4 - 0s - loss: 0.1447 - accuracy: 0.9524 - 16ms/epoch - 4ms/step\n",
      "Epoch 96/100\n",
      "4/4 - 0s - loss: 0.1868 - accuracy: 0.9429 - 15ms/epoch - 4ms/step\n",
      "Epoch 97/100\n",
      "4/4 - 0s - loss: 0.1547 - accuracy: 0.9524 - 14ms/epoch - 4ms/step\n",
      "Epoch 98/100\n"
     ]
    },
    {
     "name": "stdout",
     "output_type": "stream",
     "text": [
      "4/4 - 0s - loss: 0.1439 - accuracy: 0.9619 - 13ms/epoch - 3ms/step\n",
      "Epoch 99/100\n",
      "4/4 - 0s - loss: 0.1375 - accuracy: 0.9714 - 15ms/epoch - 4ms/step\n",
      "Epoch 100/100\n",
      "4/4 - 0s - loss: 0.1301 - accuracy: 0.9619 - 14ms/epoch - 4ms/step\n"
     ]
    },
    {
     "data": {
      "text/plain": [
       "<keras.src.callbacks.History at 0x1a90fe7efd0>"
      ]
     },
     "execution_count": 41,
     "metadata": {},
     "output_type": "execute_result"
    }
   ],
   "source": [
    "model.fit(x_train, y_train, epochs=100, verbose=2)"
   ]
  },
  {
   "cell_type": "code",
   "execution_count": 42,
   "id": "ee8e34d8",
   "metadata": {},
   "outputs": [
    {
     "name": "stdout",
     "output_type": "stream",
     "text": [
      "2/2 [==============================] - 0s 15ms/step\n",
      "[[9.9968553e-01 3.1370355e-04 8.1857786e-07]\n",
      " [1.0231685e-02 9.2282403e-01 6.6944294e-02]\n",
      " [9.9891257e-01 1.0841525e-03 3.3420706e-06]\n",
      " [2.5532872e-05 6.4397096e-03 9.9353468e-01]\n",
      " [9.9857676e-01 1.4180880e-03 5.0860017e-06]]\n"
     ]
    }
   ],
   "source": [
    "prediction = model.predict(x_test)\n",
    "print(prediction[:5])"
   ]
  },
  {
   "cell_type": "code",
   "execution_count": 43,
   "id": "1f4ce17e",
   "metadata": {},
   "outputs": [
    {
     "name": "stdout",
     "output_type": "stream",
     "text": [
      "[0 1 0 2 0]\n"
     ]
    }
   ],
   "source": [
    "prediction = np.argmax(prediction, axis=-1)\n",
    "print(prediction[:5])"
   ]
  },
  {
   "cell_type": "code",
   "execution_count": 44,
   "id": "bd8cdb80",
   "metadata": {},
   "outputs": [
    {
     "name": "stdout",
     "output_type": "stream",
     "text": [
      "4      0\n",
      "58     1\n",
      "20     0\n",
      "114    2\n",
      "31     0\n",
      "Name: Species, dtype: int32\n"
     ]
    }
   ],
   "source": [
    "print(y_test[:5])"
   ]
  },
  {
   "cell_type": "code",
   "execution_count": 45,
   "id": "c1687f16",
   "metadata": {},
   "outputs": [
    {
     "name": "stdout",
     "output_type": "stream",
     "text": [
      "0.9777777777777777\n"
     ]
    }
   ],
   "source": [
    "from sklearn.metrics import accuracy_score, confusion_matrix\n",
    "print(accuracy_score(y_test, prediction))"
   ]
  },
  {
   "cell_type": "code",
   "execution_count": 46,
   "id": "f16006f9",
   "metadata": {},
   "outputs": [
    {
     "name": "stdout",
     "output_type": "stream",
     "text": [
      "[[16  0  0]\n",
      " [ 0 12  0]\n",
      " [ 0  1 16]]\n"
     ]
    }
   ],
   "source": [
    "cm = confusion_matrix(y_test, prediction)\n",
    "print(cm)"
   ]
  },
  {
   "cell_type": "code",
   "execution_count": 51,
   "id": "8fe33ac5",
   "metadata": {},
   "outputs": [
    {
     "data": {
      "text/plain": [
       "Text(50.72222222222221, 0.5, 'actual')"
      ]
     },
     "execution_count": 51,
     "metadata": {},
     "output_type": "execute_result"
    },
    {
     "data": {
      "image/png": "[encoded data removed]",
      "text/plain": [
       "<Figure size 640x480 with 2 Axes>"
      ]
     },
     "metadata": {},
     "output_type": "display_data"
    }
   ],
   "source": [
    "ax = sns.heatmap(cm, annot=True, fmt='d', cmap='Blues', xticklabels=species_name, yticklabels=species_name)\n",
    "ax.set_title('confusion matrix for irsis dataset prediction')\n",
    "ax.set_xlabel('prediction', fontsize=14)\n",
    "ax.set_ylabel('actual', fontsize=14)"
   ]
  },
  {
   "cell_type": "code",
   "execution_count": null,
   "id": "acc3133e",
   "metadata": {},
   "outputs": [],
   "source": []
  }
 ],
 "metadata": {
  "kernelspec": {
   "display_name": "Python 3 (ipykernel)",
   "language": "python",
   "name": "python3"
  },
  "language_info": {
   "codemirror_mode": {
    "name": "ipython",
    "version": 3
   },
   "file_extension": ".py",
   "mimetype": "text/x-python",
   "name": "python",
   "nbconvert_exporter": "python",
   "pygments_lexer": "ipython3",
   "version": "3.12.0"
  }
 },
 "nbformat": 4,
 "nbformat_minor": 5
}
